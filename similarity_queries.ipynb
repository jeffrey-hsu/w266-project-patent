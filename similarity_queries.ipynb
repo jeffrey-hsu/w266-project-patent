{
 "cells": [
  {
   "cell_type": "markdown",
   "metadata": {},
   "source": [
    "# Similarity Queries"
   ]
  },
  {
   "cell_type": "code",
   "execution_count": 3,
   "metadata": {
    "collapsed": true
   },
   "outputs": [],
   "source": [
    "import logging\n",
    "logging.basicConfig(format='%(asctime)s : %(levelname)s : %(message)s', level=logging.INFO)\n",
    "\n",
    "from gensim import utils, corpora, models"
   ]
  },
  {
   "cell_type": "code",
   "execution_count": 8,
   "metadata": {
    "collapsed": false
   },
   "outputs": [
    {
     "name": "stderr",
     "output_type": "stream",
     "text": [
      "2017-12-19 08:24:11,253 : INFO : loading Dictionary object from ~/patent_data/dummy_dictionary2.dict\n",
      "2017-12-19 08:24:11,256 : INFO : loaded ~/patent_data/dummy_dictionary2.dict\n",
      "2017-12-19 08:24:11,283 : INFO : loaded corpus index from ~/patent_data/dummy_corpus_lsi2.mm.index\n",
      "2017-12-19 08:24:11,285 : INFO : initializing corpus reader from ~/patent_data/dummy_corpus_lsi2.mm\n",
      "2017-12-19 08:24:11,301 : INFO : accepted corpus with 1000 documents, 10 features, 10000 non-zero entries\n"
     ]
    }
   ],
   "source": [
    "dictionary_path = \"~/patent_data/dummy_dictionary2.dict\"\n",
    "lsi_corpus_path = \"~/patent_data/dummy_corpus_lsi2.mm\"\n",
    "\n",
    "dictionary = corpora.Dictionary.load(dictionary_path)\n",
    "lsi_corpus = corpora.MmCorpus(lsi_corpus_path)"
   ]
  },
  {
   "cell_type": "code",
   "execution_count": null,
   "metadata": {
    "collapsed": true
   },
   "outputs": [],
   "source": []
  }
 ],
 "metadata": {
  "kernelspec": {
   "display_name": "Python 2",
   "language": "python",
   "name": "python2"
  },
  "language_info": {
   "codemirror_mode": {
    "name": "ipython",
    "version": 2
   },
   "file_extension": ".py",
   "mimetype": "text/x-python",
   "name": "python",
   "nbconvert_exporter": "python",
   "pygments_lexer": "ipython2",
   "version": "2.7.13"
  }
 },
 "nbformat": 4,
 "nbformat_minor": 2
}
