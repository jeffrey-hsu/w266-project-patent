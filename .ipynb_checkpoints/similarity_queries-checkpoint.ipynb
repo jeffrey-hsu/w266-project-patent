{
 "cells": [
  {
   "cell_type": "markdown",
   "metadata": {},
   "source": [
    "# Similarity Queries"
   ]
  },
  {
   "cell_type": "code",
   "execution_count": 1,
   "metadata": {
    "collapsed": false
   },
   "outputs": [
    {
     "name": "stderr",
     "output_type": "stream",
     "text": [
      "2017-12-19 08:37:12,716 : INFO : 'pattern' package not found; tag filters are not available for English\n"
     ]
    }
   ],
   "source": [
    "import logging\n",
    "logging.basicConfig(format='%(asctime)s : %(levelname)s : %(message)s', level=logging.INFO)\n",
    "\n",
    "from gensim import utils, corpora, models\n",
    "import csv2bow"
   ]
  },
  {
   "cell_type": "code",
   "execution_count": 2,
   "metadata": {
    "collapsed": false
   },
   "outputs": [
    {
     "name": "stderr",
     "output_type": "stream",
     "text": [
      "2017-12-19 08:37:17,286 : INFO : loading Dictionary object from ~/patent_data/dummy_dictionary2.dict\n",
      "2017-12-19 08:37:17,320 : INFO : loaded ~/patent_data/dummy_dictionary2.dict\n",
      "2017-12-19 08:37:17,332 : INFO : loaded corpus index from ~/patent_data/dummy_corpus_lsi2.mm.index\n",
      "2017-12-19 08:37:17,334 : INFO : initializing corpus reader from ~/patent_data/dummy_corpus_lsi2.mm\n",
      "2017-12-19 08:37:17,347 : INFO : accepted corpus with 1000 documents, 10 features, 10000 non-zero entries\n"
     ]
    }
   ],
   "source": [
    "dictionary_path = \"~/patent_data/dummy_dictionary2.dict\"\n",
    "lsi_corpus_path = \"~/patent_data/dummy_corpus_lsi2.mm\"\n",
    "\n",
    "dictionary = corpora.Dictionary.load(dictionary_path)\n",
    "lsi_corpus = corpora.MmCorpus(lsi_corpus_path)"
   ]
  },
  {
   "cell_type": "code",
   "execution_count": null,
   "metadata": {
    "collapsed": true
   },
   "outputs": [],
   "source": []
  }
 ],
 "metadata": {
  "kernelspec": {
   "display_name": "Python 2",
   "language": "python",
   "name": "python2"
  },
  "language_info": {
   "codemirror_mode": {
    "name": "ipython",
    "version": 2
   },
   "file_extension": ".py",
   "mimetype": "text/x-python",
   "name": "python",
   "nbconvert_exporter": "python",
   "pygments_lexer": "ipython2",
   "version": "2.7.13"
  }
 },
 "nbformat": 4,
 "nbformat_minor": 2
}
