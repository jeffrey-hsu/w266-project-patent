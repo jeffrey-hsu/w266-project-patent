{
 "cells": [
  {
   "cell_type": "code",
   "execution_count": 1,
   "metadata": {
    "collapsed": true
   },
   "outputs": [],
   "source": [
    "import bs4\n",
    "import pandas\n",
    "import numpy\n",
    "\n"
   ]
  },
  {
   "cell_type": "code",
   "execution_count": 2,
   "metadata": {},
   "outputs": [
    {
     "name": "stdout",
     "output_type": "stream",
     "text": [
      "{u'response': {u'start': 0, u'numFound': 2, u'docs': [{u'pdfPath': u'NOTAVAILABLE', u'patentNumber': u'9676862', u'inventor': [u'Ellmark, Peter Bo Joakim', u'Dahlen, Eva Maria'], u'applicant': [u'Ellmark, Peter Bo Joakim', u'Dahlen, Eva Maria'], u'assignee': [u'ALLIGATOR BIOSCIENCE, AB'], u'applicationNumber': u'US14342141', u'documentDate': u'2017-06-13T00:00:00Z', u'year': u'2017', u'_version_': 1581811757363494912, u'archiveUrl': u'https://bulkdata.uspto.gov/data2/patent/grant/redbook/fulltext/2017/ipg170613.zip', u'applicationDate': u'2012-09-05T00:00:00Z', u'publicationDate': u'2017-06-13T00:00:00Z', u'documentType': u'grant', u'title': u'Anti-Cd40 Antibodies and Methods of Treating Cancer', u'productionDate': u'2017-05-30T00:00:00Z', u'documentId': u'US9676862B2', u'applicationType': u'UTILITY'}, {u'pdfPath': u'NOTAVAILABLE', u'patentNumber': u'9682079', u'inventor': [u'Schneider, Peter', u'Riedl, Rainer', u'Tigges, Marcel', u'Gitzinger, Marc', u'Pieren, Michel', u'Levi, Assaf', u'Sephton, Mark', u'Schellhorn, Birgit', u'Zueger, Patrik', u'Brand, Michael', u'Gygax, Daniel', u'Spies, Peter'], u'applicant': [u'BIOVERSYS AG'], u'assignee': [u'BIOVERSYS AG'], u'applicationNumber': u'US14765446', u'documentDate': u'2017-06-20T00:00:00Z', u'year': u'2017', u'_version_': 1581836146550243328, u'archiveUrl': u'https://bulkdata.uspto.gov/data2/patent/grant/redbook/fulltext/2017/ipg170620.zip', u'applicationDate': u'2014-02-03T00:00:00Z', u'publicationDate': u'2017-06-20T00:00:00Z', u'documentType': u'grant', u'title': u'Composition for Treatment of Pathogens That Are Resistant to Tetracyclines', u'productionDate': u'2017-06-05T00:00:00Z', u'documentId': u'US9682079B2', u'applicationType': u'UTILITY'}]}}\n"
     ]
    }
   ],
   "source": [
    "# https://developer.uspto.gov/ibd-api/v1/patent/application?patentNumber=9682079%2C9676862&start=0&rows=100\n",
    "\n",
    "\n",
    "## Data Locator\n",
    "\n",
    "import requests\n",
    "import json\n",
    "import pandas\n",
    "from pandas.io.json import json_normalize\n",
    "\n",
    "url = 'https://developer.uspto.gov/ibd-api/v1/patent/application?'\n",
    "\n",
    "args = {}\n",
    "\"\"\" required options \"\"\"\n",
    "args['patentNumber'] = '9682079,9676862'\n",
    "args['start'] = '0'\n",
    "args['rows'] = '100'\n",
    "\n",
    "    \n",
    "\"\"\" send request as method POST \"\"\"\n",
    "response = requests.post(url, data=args)\n",
    "\"\"\" send request as method GET \"\"\"\n",
    "response = requests.get(url, params=args)\n",
    "\n",
    "if response.status_code == 200:\n",
    "    \"\"\" convert json string in python list \"\"\"\n",
    "    data = json.loads(response.text)\n",
    "#     data = json_normalize(data['response']['numFound'])\n",
    "#     data['cl_id']= dahiti_id\n",
    "#     data['location_id'] = location_id\n",
    "    print(data)\n",
    "else:\n",
    "    print(response.status_code)"
   ]
  },
  {
   "cell_type": "code",
   "execution_count": 3,
   "metadata": {},
   "outputs": [
    {
     "name": "stdout",
     "output_type": "stream",
     "text": [
      "             _version_                                      applicant  \\\n",
      "0  1581811719614758912                 [ENANTA PHARMACEUTICALS, INC.]   \n",
      "1  1581811739387756544                               [Zyngenia, Inc.]   \n",
      "2  1581811756780486656                               [Apexigen, Inc.]   \n",
      "3  1581811757363494912  [Ellmark, Peter Bo Joakim, Dahlen, Eva Maria]   \n",
      "4  1581836146550243328                                 [BIOVERSYS AG]   \n",
      "\n",
      "        applicationDate applicationNumber applicationType  \\\n",
      "0  2014-04-16T00:00:00Z        US14254265         UTILITY   \n",
      "1  2014-10-29T00:00:00Z        US14527656         UTILITY   \n",
      "2  2013-10-30T00:00:00Z        US14067770         UTILITY   \n",
      "3  2012-09-05T00:00:00Z        US14342141         UTILITY   \n",
      "4  2014-02-03T00:00:00Z        US14765446         UTILITY   \n",
      "\n",
      "                                          archiveUrl  \\\n",
      "0  https://bulkdata.uspto.gov/data2/patent/grant/...   \n",
      "1  https://bulkdata.uspto.gov/data2/patent/grant/...   \n",
      "2  https://bulkdata.uspto.gov/data2/patent/grant/...   \n",
      "3  https://bulkdata.uspto.gov/data2/patent/grant/...   \n",
      "4  https://bulkdata.uspto.gov/data2/patent/grant/...   \n",
      "\n",
      "                         assignee          documentDate   documentId  \\\n",
      "0  [ENANTA PHARMACEUTICALS, INC.]  2017-06-13T00:00:00Z  US9676802B2   \n",
      "1                [Zyngenia, Inc.]  2017-06-13T00:00:00Z  US9676833B2   \n",
      "2                [Apexigen, Inc.]  2017-06-13T00:00:00Z  US9676861B2   \n",
      "3      [ALLIGATOR BIOSCIENCE, AB]  2017-06-13T00:00:00Z  US9676862B2   \n",
      "4                  [BIOVERSYS AG]  2017-06-20T00:00:00Z  US9682079B2   \n",
      "\n",
      "  documentType                                           inventor  \\\n",
      "0        grant  [Qiu, Yao-Ling, Cao, Hui, Peng, Xiaowen, Chen,...   \n",
      "1        grant  [Roschke, Viktor, Lafleur, David, Hilbert, Dav...   \n",
      "2        grant        [Zhang, Yongke, Yu, Guo-Liang, Zhu, Weimin]   \n",
      "3        grant      [Ellmark, Peter Bo Joakim, Dahlen, Eva Maria]   \n",
      "4        grant  [Schneider, Peter, Riedl, Rainer, Tigges, Marc...   \n",
      "\n",
      "  patentNumber       pdfPath        productionDate       publicationDate  \\\n",
      "0      9676802  NOTAVAILABLE  2017-05-30T00:00:00Z  2017-06-13T00:00:00Z   \n",
      "1      9676833  NOTAVAILABLE  2017-05-30T00:00:00Z  2017-06-13T00:00:00Z   \n",
      "2      9676861  NOTAVAILABLE  2017-05-30T00:00:00Z  2017-06-13T00:00:00Z   \n",
      "3      9676862  NOTAVAILABLE  2017-05-30T00:00:00Z  2017-06-13T00:00:00Z   \n",
      "4      9682079  NOTAVAILABLE  2017-06-05T00:00:00Z  2017-06-20T00:00:00Z   \n",
      "\n",
      "                                               title  year  \n",
      "0                       Hepatitis C Virus Inhibitors  2017  \n",
      "1  Ang-2-Binding Modular Recognition Domain Compl...  2017  \n",
      "2            Anti-Cd40 Antibodies and Methods of Use  2017  \n",
      "3  Anti-Cd40 Antibodies and Methods of Treating C...  2017  \n",
      "4  Composition for Treatment of Pathogens That Ar...  2017  \n"
     ]
    }
   ],
   "source": [
    "# https://developer.uspto.gov/ibd-api/v1/patent/application?patentNumber=9682079%2C9676862&start=0&rows=100\n",
    "\n",
    "\n",
    "## Data Locator\n",
    "\n",
    "import requests\n",
    "import json\n",
    "import pandas\n",
    "from pandas.io.json import json_normalize\n",
    "\n",
    "url = 'https://developer.uspto.gov/ibd-api/v1/patent/application?'\n",
    "\n",
    "args = {}\n",
    "\"\"\" required options \"\"\"\n",
    "args['patentNumber'] = '9682079,9676862,15,9676861,9676833,9676802'\n",
    "args['start'] = '0'\n",
    "args['rows'] = '100'\n",
    "\n",
    "    \n",
    "\"\"\" send request as method POST \"\"\"\n",
    "response = requests.post(url, data=args)\n",
    "\"\"\" send request as method GET \"\"\"\n",
    "response = requests.get(url, params=args)\n",
    "\n",
    "if response.status_code == 200:\n",
    "    \"\"\" convert json string in python list \"\"\"\n",
    "    data = json.loads(response.text)\n",
    "    request_info=json_normalize(data['response'])\n",
    "    data = json_normalize(data['response']['docs'])\n",
    "    \n",
    "#     print(request_info)\n",
    "#     data['cl_id']= dahiti_id\n",
    "#     data['location_id'] = location_id\n",
    "    print(data)\n",
    "#     print(data['archiveUrl'])\n",
    "else:\n",
    "    print(response.status_code)\n",
    "data.to_csv(\"patentInfo.csv\", sep='\\t')"
   ]
  },
  {
   "cell_type": "code",
   "execution_count": 20,
   "metadata": {
    "collapsed": true
   },
   "outputs": [],
   "source": [
    "data.to_csv(\"patentInfo.csv\", sep='\\t')"
   ]
  },
  {
   "cell_type": "code",
   "execution_count": 5,
   "metadata": {},
   "outputs": [],
   "source": [
    "# from bs4 import BeautifulSoup\n",
    "# soup = BeautifulSoup('/media/saurabhj/StudyMaterial/1.MIDS/Courses/W266NLP&DeepLearning/ipg170103.xml', 'xml.parser')\n",
    "\n",
    "# print(soup.prettify())"
   ]
  }
 ],
 "metadata": {
  "kernelspec": {
   "display_name": "Python 2",
   "language": "python",
   "name": "python2"
  },
  "language_info": {
   "codemirror_mode": {
    "name": "ipython",
    "version": 2
   },
   "file_extension": ".py",
   "mimetype": "text/x-python",
   "name": "python",
   "nbconvert_exporter": "python",
   "pygments_lexer": "ipython2",
   "version": "2.7.13"
  }
 },
 "nbformat": 4,
 "nbformat_minor": 2
}
